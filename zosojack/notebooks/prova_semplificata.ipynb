{
 "cells": [
  {
   "cell_type": "markdown",
   "id": "323fe7c6",
   "metadata": {},
   "source": [
    "---"
   ]
  },
  {
   "cell_type": "code",
   "execution_count": 6,
   "id": "a46518ab",
   "metadata": {},
   "outputs": [],
   "source": [
    "import sys\n",
    "sys.path.append('../') "
   ]
  },
  {
   "cell_type": "markdown",
   "id": "1dd28229",
   "metadata": {},
   "source": [
    "---"
   ]
  },
  {
   "cell_type": "code",
   "execution_count": 7,
   "id": "3a35229e",
   "metadata": {},
   "outputs": [],
   "source": [
    "import numpy as np"
   ]
  },
  {
   "cell_type": "code",
   "execution_count": 8,
   "id": "26e1c7fd",
   "metadata": {},
   "outputs": [],
   "source": [
    "from libraries.CrystalStructure import CrystalStructure as Crystal\n",
    "# Insert a valid file name here\n",
    "filename = '../../data/fcc100a256.txt'\n",
    "# Initialize a Crystal object using the from_file method (constructor)\n",
    "cristallo = Crystal.from_file(filename)"
   ]
  },
  {
   "cell_type": "code",
   "execution_count": 9,
   "id": "535999a4",
   "metadata": {},
   "outputs": [],
   "source": [
    "# First set a cutoff radious = 4.5 Angstrom\n",
    "cristallo.set_R_C(4.5)\n",
    "# Then find neighbours\n",
    "cristallo.find_neighbours() "
   ]
  },
  {
   "cell_type": "code",
   "execution_count": 10,
   "id": "6027f471",
   "metadata": {},
   "outputs": [
    {
     "name": "stdout",
     "output_type": "stream",
     "text": [
      "Step 0/100: E_T = -452.7883 eV, E_P = -453.4486 eV, E_K = 0.6603 eV, T = 19.95 K\n",
      "Step 1/100: E_T = -452.7877 eV, E_P = -453.4463 eV, E_K = 0.6586 eV, T = 19.90 K\n",
      "Step 2/100: E_T = -452.7866 eV, E_P = -453.4433 eV, E_K = 0.6567 eV, T = 19.84 K\n",
      "Step 3/100: E_T = -452.7849 eV, E_P = -453.4395 eV, E_K = 0.6545 eV, T = 19.78 K\n",
      "Step 4/100: E_T = -452.7827 eV, E_P = -453.4349 eV, E_K = 0.6522 eV, T = 19.71 K\n",
      "Step 5/100: E_T = -452.7799 eV, E_P = -453.4297 eV, E_K = 0.6498 eV, T = 19.63 K\n",
      "Step 6/100: E_T = -452.7766 eV, E_P = -453.4237 eV, E_K = 0.6471 eV, T = 19.55 K\n",
      "Step 7/100: E_T = -452.7727 eV, E_P = -453.4170 eV, E_K = 0.6443 eV, T = 19.47 K\n",
      "Step 8/100: E_T = -452.7683 eV, E_P = -453.4097 eV, E_K = 0.6413 eV, T = 19.38 K\n",
      "Step 9/100: E_T = -452.7634 eV, E_P = -453.4016 eV, E_K = 0.6382 eV, T = 19.28 K\n",
      "Step 10/100: E_T = -452.7580 eV, E_P = -453.3930 eV, E_K = 0.6350 eV, T = 19.19 K\n",
      "Step 11/100: E_T = -452.7521 eV, E_P = -453.3836 eV, E_K = 0.6316 eV, T = 19.08 K\n",
      "Step 12/100: E_T = -452.7456 eV, E_P = -453.3737 eV, E_K = 0.6281 eV, T = 18.98 K\n",
      "Step 13/100: E_T = -452.7387 eV, E_P = -453.3632 eV, E_K = 0.6244 eV, T = 18.87 K\n",
      "Step 14/100: E_T = -452.7314 eV, E_P = -453.3521 eV, E_K = 0.6207 eV, T = 18.76 K\n",
      "Step 15/100: E_T = -452.7235 eV, E_P = -453.3404 eV, E_K = 0.6169 eV, T = 18.64 K\n",
      "Step 16/100: E_T = -452.7153 eV, E_P = -453.3282 eV, E_K = 0.6129 eV, T = 18.52 K\n",
      "Step 17/100: E_T = -452.7066 eV, E_P = -453.3155 eV, E_K = 0.6089 eV, T = 18.40 K\n",
      "Step 18/100: E_T = -452.6974 eV, E_P = -453.3023 eV, E_K = 0.6049 eV, T = 18.28 K\n",
      "Step 19/100: E_T = -452.6879 eV, E_P = -453.2886 eV, E_K = 0.6007 eV, T = 18.15 K\n",
      "Step 20/100: E_T = -452.6779 eV, E_P = -453.2745 eV, E_K = 0.5966 eV, T = 18.03 K\n",
      "Step 21/100: E_T = -452.6676 eV, E_P = -453.2599 eV, E_K = 0.5923 eV, T = 17.90 K\n",
      "Step 22/100: E_T = -452.6569 eV, E_P = -453.2450 eV, E_K = 0.5881 eV, T = 17.77 K\n",
      "Step 23/100: E_T = -452.6459 eV, E_P = -453.2297 eV, E_K = 0.5838 eV, T = 17.64 K\n",
      "Step 24/100: E_T = -452.6345 eV, E_P = -453.2140 eV, E_K = 0.5796 eV, T = 17.51 K\n",
      "Step 25/100: E_T = -452.6227 eV, E_P = -453.1980 eV, E_K = 0.5753 eV, T = 17.38 K\n",
      "Step 26/100: E_T = -452.6107 eV, E_P = -453.1817 eV, E_K = 0.5710 eV, T = 17.25 K\n",
      "Step 27/100: E_T = -452.5984 eV, E_P = -453.1652 eV, E_K = 0.5668 eV, T = 17.13 K\n",
      "Step 28/100: E_T = -452.5858 eV, E_P = -453.1484 eV, E_K = 0.5626 eV, T = 17.00 K\n",
      "Step 29/100: E_T = -452.5729 eV, E_P = -453.1313 eV, E_K = 0.5584 eV, T = 16.87 K\n",
      "Step 30/100: E_T = -452.5598 eV, E_P = -453.1141 eV, E_K = 0.5543 eV, T = 16.75 K\n",
      "Step 31/100: E_T = -452.5465 eV, E_P = -453.0967 eV, E_K = 0.5502 eV, T = 16.63 K\n",
      "Step 32/100: E_T = -452.5329 eV, E_P = -453.0791 eV, E_K = 0.5462 eV, T = 16.51 K\n",
      "Step 33/100: E_T = -452.5191 eV, E_P = -453.0614 eV, E_K = 0.5423 eV, T = 16.39 K\n",
      "Step 34/100: E_T = -452.5052 eV, E_P = -453.0437 eV, E_K = 0.5385 eV, T = 16.27 K\n",
      "Step 35/100: E_T = -452.4910 eV, E_P = -453.0258 eV, E_K = 0.5348 eV, T = 16.16 K\n",
      "Step 36/100: E_T = -452.4767 eV, E_P = -453.0079 eV, E_K = 0.5311 eV, T = 16.05 K\n",
      "Step 37/100: E_T = -452.4623 eV, E_P = -452.9899 eV, E_K = 0.5276 eV, T = 15.94 K\n",
      "Step 38/100: E_T = -452.4477 eV, E_P = -452.9719 eV, E_K = 0.5242 eV, T = 15.84 K\n",
      "Step 39/100: E_T = -452.4330 eV, E_P = -452.9539 eV, E_K = 0.5209 eV, T = 15.74 K\n",
      "Step 40/100: E_T = -452.4182 eV, E_P = -452.9360 eV, E_K = 0.5178 eV, T = 15.65 K\n",
      "Step 41/100: E_T = -452.4033 eV, E_P = -452.9181 eV, E_K = 0.5148 eV, T = 15.55 K\n",
      "Step 42/100: E_T = -452.3883 eV, E_P = -452.9003 eV, E_K = 0.5119 eV, T = 15.47 K\n",
      "Step 43/100: E_T = -452.3733 eV, E_P = -452.8825 eV, E_K = 0.5092 eV, T = 15.39 K\n",
      "Step 44/100: E_T = -452.3582 eV, E_P = -452.8648 eV, E_K = 0.5066 eV, T = 15.31 K\n",
      "Step 45/100: E_T = -452.3431 eV, E_P = -452.8473 eV, E_K = 0.5042 eV, T = 15.24 K\n",
      "Step 46/100: E_T = -452.3279 eV, E_P = -452.8299 eV, E_K = 0.5020 eV, T = 15.17 K\n",
      "Step 47/100: E_T = -452.3128 eV, E_P = -452.8126 eV, E_K = 0.4999 eV, T = 15.10 K\n",
      "Step 48/100: E_T = -452.2976 eV, E_P = -452.7955 eV, E_K = 0.4979 eV, T = 15.05 K\n",
      "Step 49/100: E_T = -452.2824 eV, E_P = -452.7786 eV, E_K = 0.4962 eV, T = 14.99 K\n",
      "Step 50/100: E_T = -452.2673 eV, E_P = -452.7618 eV, E_K = 0.4946 eV, T = 14.94 K\n",
      "Step 51/100: E_T = -452.2521 eV, E_P = -452.7453 eV, E_K = 0.4931 eV, T = 14.90 K\n",
      "Step 52/100: E_T = -452.2370 eV, E_P = -452.7289 eV, E_K = 0.4919 eV, T = 14.86 K\n",
      "Step 53/100: E_T = -452.2220 eV, E_P = -452.7128 eV, E_K = 0.4908 eV, T = 14.83 K\n",
      "Step 54/100: E_T = -452.2070 eV, E_P = -452.6968 eV, E_K = 0.4899 eV, T = 14.80 K\n",
      "Step 55/100: E_T = -452.1920 eV, E_P = -452.6811 eV, E_K = 0.4891 eV, T = 14.78 K\n",
      "Step 56/100: E_T = -452.1771 eV, E_P = -452.6656 eV, E_K = 0.4885 eV, T = 14.76 K\n",
      "Step 57/100: E_T = -452.1623 eV, E_P = -452.6504 eV, E_K = 0.4881 eV, T = 14.75 K\n",
      "Step 58/100: E_T = -452.1475 eV, E_P = -452.6354 eV, E_K = 0.4878 eV, T = 14.74 K\n",
      "Step 59/100: E_T = -452.1329 eV, E_P = -452.6206 eV, E_K = 0.4878 eV, T = 14.74 K\n",
      "Step 60/100: E_T = -452.1183 eV, E_P = -452.6061 eV, E_K = 0.4878 eV, T = 14.74 K\n",
      "Step 61/100: E_T = -452.1038 eV, E_P = -452.5919 eV, E_K = 0.4880 eV, T = 14.75 K\n",
      "Step 62/100: E_T = -452.0895 eV, E_P = -452.5778 eV, E_K = 0.4884 eV, T = 14.76 K\n",
      "Step 63/100: E_T = -452.0752 eV, E_P = -452.5641 eV, E_K = 0.4889 eV, T = 14.77 K\n",
      "Step 64/100: E_T = -452.0610 eV, E_P = -452.5505 eV, E_K = 0.4895 eV, T = 14.79 K\n",
      "Step 65/100: E_T = -452.0469 eV, E_P = -452.5373 eV, E_K = 0.4903 eV, T = 14.82 K\n",
      "Step 66/100: E_T = -452.0330 eV, E_P = -452.5242 eV, E_K = 0.4912 eV, T = 14.84 K\n",
      "Step 67/100: E_T = -452.0191 eV, E_P = -452.5114 eV, E_K = 0.4923 eV, T = 14.87 K\n",
      "Step 68/100: E_T = -452.0054 eV, E_P = -452.4989 eV, E_K = 0.4934 eV, T = 14.91 K\n",
      "Step 69/100: E_T = -451.9918 eV, E_P = -452.4865 eV, E_K = 0.4947 eV, T = 14.95 K\n",
      "Step 70/100: E_T = -451.9783 eV, E_P = -452.4744 eV, E_K = 0.4961 eV, T = 14.99 K\n",
      "Step 71/100: E_T = -451.9650 eV, E_P = -452.4625 eV, E_K = 0.4975 eV, T = 15.03 K\n",
      "Step 72/100: E_T = -451.9517 eV, E_P = -452.4508 eV, E_K = 0.4991 eV, T = 15.08 K\n",
      "Step 73/100: E_T = -451.9386 eV, E_P = -452.4394 eV, E_K = 0.5008 eV, T = 15.13 K\n",
      "Step 74/100: E_T = -451.9256 eV, E_P = -452.4281 eV, E_K = 0.5025 eV, T = 15.18 K\n",
      "Step 75/100: E_T = -451.9128 eV, E_P = -452.4170 eV, E_K = 0.5043 eV, T = 15.24 K\n",
      "Step 76/100: E_T = -451.9000 eV, E_P = -452.4062 eV, E_K = 0.5061 eV, T = 15.29 K\n",
      "Step 77/100: E_T = -451.8874 eV, E_P = -452.3954 eV, E_K = 0.5081 eV, T = 15.35 K\n",
      "Step 78/100: E_T = -451.8749 eV, E_P = -452.3849 eV, E_K = 0.5100 eV, T = 15.41 K\n",
      "Step 79/100: E_T = -451.8625 eV, E_P = -452.3745 eV, E_K = 0.5120 eV, T = 15.47 K\n",
      "Step 80/100: E_T = -451.8503 eV, E_P = -452.3643 eV, E_K = 0.5141 eV, T = 15.53 K\n",
      "Step 81/100: E_T = -451.8381 eV, E_P = -452.3543 eV, E_K = 0.5161 eV, T = 15.60 K\n",
      "Step 82/100: E_T = -451.8261 eV, E_P = -452.3443 eV, E_K = 0.5182 eV, T = 15.66 K\n",
      "Step 83/100: E_T = -451.8142 eV, E_P = -452.3346 eV, E_K = 0.5203 eV, T = 15.72 K\n",
      "Step 84/100: E_T = -451.8025 eV, E_P = -452.3249 eV, E_K = 0.5224 eV, T = 15.79 K\n",
      "Step 85/100: E_T = -451.7908 eV, E_P = -452.3153 eV, E_K = 0.5245 eV, T = 15.85 K\n",
      "Step 86/100: E_T = -451.7793 eV, E_P = -452.3059 eV, E_K = 0.5266 eV, T = 15.91 K\n",
      "Step 87/100: E_T = -451.7679 eV, E_P = -452.2966 eV, E_K = 0.5287 eV, T = 15.97 K\n",
      "Step 88/100: E_T = -451.7566 eV, E_P = -452.2873 eV, E_K = 0.5307 eV, T = 16.04 K\n",
      "Step 89/100: E_T = -451.7454 eV, E_P = -452.2782 eV, E_K = 0.5328 eV, T = 16.10 K\n",
      "Step 90/100: E_T = -451.7344 eV, E_P = -452.2691 eV, E_K = 0.5348 eV, T = 16.16 K\n",
      "Step 91/100: E_T = -451.7234 eV, E_P = -452.2601 eV, E_K = 0.5367 eV, T = 16.22 K\n",
      "Step 92/100: E_T = -451.7126 eV, E_P = -452.2512 eV, E_K = 0.5386 eV, T = 16.28 K\n",
      "Step 93/100: E_T = -451.7019 eV, E_P = -452.2424 eV, E_K = 0.5405 eV, T = 16.33 K\n",
      "Step 94/100: E_T = -451.6913 eV, E_P = -452.2336 eV, E_K = 0.5423 eV, T = 16.39 K\n",
      "Step 95/100: E_T = -451.6808 eV, E_P = -452.2249 eV, E_K = 0.5440 eV, T = 16.44 K\n",
      "Step 96/100: E_T = -451.6705 eV, E_P = -452.2162 eV, E_K = 0.5457 eV, T = 16.49 K\n",
      "Step 97/100: E_T = -451.6602 eV, E_P = -452.2076 eV, E_K = 0.5473 eV, T = 16.54 K\n",
      "Step 98/100: E_T = -451.6501 eV, E_P = -452.1990 eV, E_K = 0.5489 eV, T = 16.59 K\n",
      "Step 99/100: E_T = -451.6401 eV, E_P = -452.1905 eV, E_K = 0.5504 eV, T = 16.63 K\n"
     ]
    }
   ],
   "source": [
    "import libraries.simplified as dynamics\n",
    "\n",
    "# PASSO 0 #\n",
    "\n",
    "# calcolo la potenziale iniziale\n",
    "potenziale_iniziale = dynamics.compute_potential(cristallo)\n",
    "# inizializzo velocità e calcolo cinetica iniziale\n",
    "velocità, energia_cinetica = dynamics.random_velocities(cristallo, temp_ini=20)\n",
    "# calcolo la matrice delle forze iniziali\n",
    "forza_prima = dynamics.compute_forces_matrix(cristallo)\n",
    "\n",
    "# CICLO #\n",
    "for step in range(100):\n",
    "    # aggiorno posizioni e primi vicini\n",
    "    dynamics.update_positions(cristallo, velocità, forze=forza_prima, dt=1e-15)\n",
    "    # aggiorno vicini\n",
    "    cristallo.find_neighbours()\n",
    "    # calcolo nuove forze\n",
    "    forza_dopo = dynamics.compute_forces_matrix(cristallo)\n",
    "    # aggiorno velocità\n",
    "    velocità, energia_cinetica = dynamics.update_velocities(cristallo, velocità, forza_prima, forza_dopo, dt=1e-15)\n",
    "    # ricalcolo potenziale\n",
    "    potenziale = dynamics.compute_potential(cristallo)\n",
    "    # calcolo temperatura\n",
    "    temp = (2/3) * (energia_cinetica / (cristallo.N_atoms * dynamics.k_B))\n",
    "    \n",
    "    print(f\"Step {step}/100: E_T = {potenziale + energia_cinetica:.4f} eV, E_P = {potenziale:.4f} eV, E_K = {energia_cinetica:.4f} eV, T = {temp:.2f} K\")\n"
   ]
  },
  {
   "cell_type": "code",
   "execution_count": null,
   "id": "e1e9fead",
   "metadata": {},
   "outputs": [],
   "source": []
  }
 ],
 "metadata": {
  "kernelspec": {
   "display_name": "Python 3",
   "language": "python",
   "name": "python3"
  },
  "language_info": {
   "codemirror_mode": {
    "name": "ipython",
    "version": 3
   },
   "file_extension": ".py",
   "mimetype": "text/x-python",
   "name": "python",
   "nbconvert_exporter": "python",
   "pygments_lexer": "ipython3",
   "version": "3.11.11"
  }
 },
 "nbformat": 4,
 "nbformat_minor": 5
}
