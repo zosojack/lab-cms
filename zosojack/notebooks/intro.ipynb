{
 "cells": [
  {
   "cell_type": "markdown",
   "id": "07afd188",
   "metadata": {},
   "source": [
    "# Prima prova poco efficiente ma carina"
   ]
  },
  {
   "cell_type": "markdown",
   "id": "35bc7a6d",
   "metadata": {},
   "source": [
    "---"
   ]
  },
  {
   "cell_type": "markdown",
   "id": "df329a1f",
   "metadata": {},
   "source": [
    "## Fase preliminare"
   ]
  },
  {
   "cell_type": "markdown",
   "id": "724a9221",
   "metadata": {},
   "source": [
    "#### Importazioni e definizioni"
   ]
  },
  {
   "cell_type": "code",
   "execution_count": null,
   "id": "831d63a7",
   "metadata": {},
   "outputs": [],
   "source": [
    "# Importo\n",
    "import numpy as np\n",
    "# Definisco\n",
    "nome_file = '../../data/fcc100a108.txt' # nome file da leggere\n",
    "R_C = 4.5 # raggio di cutoff (angstrom)"
   ]
  },
  {
   "cell_type": "markdown",
   "id": "a3a1ec6b",
   "metadata": {},
   "source": [
    "#### Lettura file"
   ]
  },
  {
   "cell_type": "code",
   "execution_count": 3,
   "id": "035d9d7b",
   "metadata": {},
   "outputs": [],
   "source": [
    "# Leggo il file, raccolgo le coordinate in tre vettori\n",
    "data = np.loadtxt(nome_file)\n",
    "vec_x = data[:, 0] \n",
    "vec_y = data[:, 1]  \n",
    "vec_z = data[:, 2]   \n",
    "# Definisco due liste\n",
    "n_neighbours = [] # ogni entrata è il numero di primi vicini dell'i-esimo atomo\n",
    "which_neighbour = [] # ogni entrata è la lista di indici dei primi vicini dell'i-esimo atomo\n",
    "how_distant = []\n"
   ]
  },
  {
   "cell_type": "markdown",
   "id": "1510cb19",
   "metadata": {},
   "source": [
    "#### Calcolo distanza e controllo vicini"
   ]
  },
  {
   "cell_type": "code",
   "execution_count": 4,
   "id": "791035c8",
   "metadata": {},
   "outputs": [],
   "source": [
    "for i, (x_i, y_i, z_i) in enumerate(zip(vec_x, vec_y, vec_z)):\n",
    "    n_neigh_i = 0  # contatore dei primi vicini dell'i-esimo atomo\n",
    "    list_neigh_i = [] # lista di indici dei primi vicini dell'i-esimo atomo\n",
    "    list_dist_ij = [] # lista di distanze tra i primi vicini \n",
    "    \n",
    "    for j, (x_j, y_j, z_j) in enumerate(zip(vec_x, vec_y, vec_z)):\n",
    "        if i != j:  # non considero la distanza di un atomo da se stesso\n",
    "            dx = (x_i - x_j)**2 \n",
    "            dy = (y_i - y_j)**2\n",
    "            dz = (z_i - z_j)**2\n",
    "            d_ij = np.sqrt(dx + dy + dz)\n",
    "            \n",
    "            if d_ij <= R_C:\n",
    "                n_neigh_i += 1\n",
    "                list_neigh_i.append(j)\n",
    "                list_dist_ij.append(d_ij)\n",
    "    \n",
    "    # Aggiungo i risultati per l'atomo i-esimo\n",
    "    n_neighbours.append(n_neigh_i)\n",
    "    which_neighbour.append(list_neigh_i)\n",
    "    how_distant.append(list_dist_ij)"
   ]
  },
  {
   "cell_type": "markdown",
   "id": "8d3801f3",
   "metadata": {},
   "source": [
    "___"
   ]
  },
  {
   "cell_type": "markdown",
   "id": "ff31bf6e",
   "metadata": {},
   "source": [
    "## Calcolo del potenziale"
   ]
  },
  {
   "cell_type": "markdown",
   "id": "9319b5ac",
   "metadata": {},
   "source": [
    "Calcolo il potenziale $V$:\n",
    "$$\n",
    "V = \\frac12 \\sum_{i\\neq j,\\ i,j=1}^{N} \\phi(r_{ij})\n",
    "$$\n",
    "con $\\phi$ potenziale di Lennard-Jonnes:\n",
    "$$\n",
    "\\phi(r_{ij}) = 4\\varepsilon\\left[\n",
    "    \\left( \\frac{\\sigma}{r_{ij}} \\right)^{12} -\n",
    "    \\left( \\frac{\\sigma}{r_{ij}} \\right)^{6}\n",
    "    \\right]\n",
    "$$\n",
    "e, per l'argento (Ag), i parametri sono: $\\varepsilon=0.345\\ \\text{eV}$ e $\\sigma=2.644\\ \\text{\\AA}$."
   ]
  },
  {
   "cell_type": "markdown",
   "id": "ef39e590",
   "metadata": {},
   "source": [
    "Scritto così però il costo per calcolare $V$ scala come $\\mathcal{O}(N^2)$ e non va bene. Abbiamo già i primi vicini per ogni atomo $i$, quindi calcolo $V_{ij}$ **soltanto** su quelli."
   ]
  },
  {
   "cell_type": "markdown",
   "id": "2df4be78",
   "metadata": {},
   "source": [
    "#### Lennard-Jones"
   ]
  },
  {
   "cell_type": "code",
   "execution_count": 5,
   "id": "d46582ed",
   "metadata": {},
   "outputs": [],
   "source": [
    "def lennard_jones_ij(r_ij, sigma=2.644, epsilon=0.345):\n",
    "    twelve = (sigma/r_ij)**12\n",
    "    six = (sigma/r_ij)**6\n",
    "    return 4*epsilon*(twelve - six)"
   ]
  },
  {
   "cell_type": "markdown",
   "id": "48b4a5bd",
   "metadata": {},
   "source": [
    "#### Calcolo"
   ]
  },
  {
   "cell_type": "markdown",
   "id": "32f75215",
   "metadata": {},
   "source": [
    "L'ho scritto in una maniera che costicchia un po' di più sulla RAM, siccome tengo in memoria i valori di distanza; potrei ricalcolarli, ma a quel punto verrebbe più costoso sulla CPU. "
   ]
  },
  {
   "cell_type": "markdown",
   "id": "e8f3241b",
   "metadata": {},
   "source": [
    "Il notebook è tanto carino per spiegare cosa sto facendo, ma conviene farlo in un .py così mi evito di ciclare mille volte sugli stessi indici!"
   ]
  },
  {
   "cell_type": "code",
   "execution_count": 6,
   "id": "76ffbf7a",
   "metadata": {},
   "outputs": [],
   "source": [
    "potenziale = 0\n",
    "for i, atom_neighbours in enumerate(which_neighbour):\n",
    "    for j, neighbour_index in enumerate(atom_neighbours):\n",
    "        if i != neighbour_index:\n",
    "            d_ij = how_distant[i][j]\n",
    "            potenziale += lennard_jones_ij(d_ij)\n",
    "potenziale = potenziale/2"
   ]
  },
  {
   "cell_type": "markdown",
   "id": "22ea9e73",
   "metadata": {},
   "source": [
    "Salvo in un file"
   ]
  },
  {
   "cell_type": "code",
   "execution_count": null,
   "id": "930e0167",
   "metadata": {},
   "outputs": [],
   "source": []
  },
  {
   "cell_type": "markdown",
   "id": "6b4c7c00",
   "metadata": {},
   "source": [
    "---"
   ]
  },
  {
   "cell_type": "markdown",
   "id": "3ec12812",
   "metadata": {},
   "source": [
    "## Forza sul $k$-esimo atomo"
   ]
  },
  {
   "cell_type": "markdown",
   "id": "6d78425d",
   "metadata": {},
   "source": [
    "È la derivata del potenziale rispetto alle coordinate del $k$-esimo atomo\n",
    "$$\n",
    "\\vec{F}_k = -\\vec{\\nabla}_k\\ V = \n",
    "-\\left(\n",
    "\\frac{\\partial V}{\\partial x_k}, \n",
    "\\frac{\\partial V}{\\partial y_k}, \n",
    "\\frac{\\partial V}{\\partial z_k}\n",
    "\\right)\n",
    "$$\n",
    "per esempio, sulla coordinata $x$ sarà:\n",
    "$$\n",
    "{F_k}_x = -\\frac12\\frac{\\partial}{\\partial x_k}\\sum_{i\\neq j} \\phi(r_{ij}) =\n",
    "-\\frac12 \\sum_{i\\neq j} \\frac{\\partial\\phi(r_{ij})}{\\partial x_k}\n",
    "$$\n",
    "qui si usa la *chain rule*\n",
    "$$\n",
    "{F_k}_x = -\\frac12\\sum_{i\\neq j}\\frac{\\partial\\phi(r_{ij})}{\\partial x_k} = \n",
    "-\\frac12\\sum_{i\\neq j}\\frac{\\partial r_{ij}}{\\partial x_k}\n",
    "\\frac{\\partial\\phi(r_{ij})}{\\partial r_{ij}}\n",
    "$$\n",
    "dove:\n",
    "$$\n",
    "\\begin{align*}\n",
    "\\frac{\\partial r_{ij}}{\\partial x_k} &= \\frac{\\partial}{\\partial x_k}\n",
    "\\left[ (x_i-x_j)^2+(y_i-y_j)^2+(z_i-z_j)^2 \\right]^{\\frac12}=\\\\ \n",
    "&= 2(x_i-x_j)\\frac{1}{2}\\left[ (x_i-x_j)^2+(y_i-y_j)^2+(z_i-z_j)^2 \\right]^{-\\frac12}\\delta_{ik}=\\\\\n",
    "&= \\frac{(x_i-x_j)}{r_{ij}}\\delta_{ik}\n",
    "\\end{align*}\n",
    "$$\n",
    "e: \n",
    "$$\n",
    "\\begin{align*}\n",
    "\\frac{\\partial\\phi(r_{ij})}{\\partial r_{ij}} &= \\frac{\\partial}{\\partial r_{ij}}\n",
    "4\\varepsilon\\left[\n",
    "\\left( \\frac{\\sigma}{r_{ij}} \\right)^{12} -\n",
    "\\left( \\frac{\\sigma}{r_{ij}} \\right)^{6}\n",
    "\\right] =\\\\\n",
    "&=\n",
    "4\\varepsilon\\left[\n",
    "-\\frac{12\\sigma}{r_{ij}^{2}}\\left( \\frac{\\sigma}{r_{ij}} \\right)^{11} +\n",
    "\\frac{6\\sigma}{r_{ij}^{2}}\\left( \\frac{\\sigma}{r_{ij}} \\right)^{5}\n",
    "\\right] =\\\\\n",
    "&= \n",
    "4\\varepsilon\\left[\n",
    "-12\\left( \\frac{\\sigma^{12}}{r_{ij}^{13}} \\right) +\n",
    "6\\left( \\frac{\\sigma^{6}}{r_{ij}^{7}} \\right)\n",
    "\\right]\n",
    "\\end{align*}\n",
    "$$"
   ]
  },
  {
   "cell_type": "markdown",
   "id": "7a51ee80",
   "metadata": {},
   "source": [
    "In definitiva:\n",
    "$$\n",
    "-\\frac12 \\sum_{i\\neq j} \\frac{\\partial\\phi(r_{ij})}{\\partial x_k} = \n",
    "-\\sum_{j\\neq k}\\ '\\ 2\\varepsilon \\frac{(x_k-x_j)}{r_{kj}} \\left[\n",
    "-12\\left( \\frac{\\sigma^{12}}{r_{kj}^{13}} \\right) +\n",
    "6\\left( \\frac{\\sigma^{6}}{r_{kj}^{7}} \\right)\n",
    "\\right]\n",
    "$$\n",
    "Raccolto:\n",
    "$$\n",
    "f_k(x) = 24\\sigma^6\\varepsilon\\sum_{i\\neq k} \\frac{1}{r_{ik}^8}\n",
    "\\left[\n",
    "\\frac{2\\sigma^6}{r_{ik}^6}-1\n",
    "\\right]\n",
    "\\left(\n",
    "x_i-x_k\n",
    "\\right)\n",
    "$$"
   ]
  },
  {
   "cell_type": "markdown",
   "id": "812985a8",
   "metadata": {},
   "source": [
    "#### Derivata di Lennard-Jones"
   ]
  },
  {
   "cell_type": "code",
   "execution_count": 7,
   "id": "db364b3a",
   "metadata": {},
   "outputs": [],
   "source": [
    "def addendo_derivata_lennard_jones(q_k, q_j, r_kj, sigma=2.644, epsilon=0.345):\n",
    "    ''' \n",
    "    Derivata del potenziale di Lennard-Jones tra due atomi k e j\n",
    "    rispetto a una coordinata del k-esimo atomo.\n",
    "    '''\n",
    "    return 2*epsilon*(q_k-q_j)/r_kj*(-12*(sigma**12/r_kj**13)+6*(sigma**6/r_kj**7))"
   ]
  },
  {
   "cell_type": "code",
   "execution_count": 8,
   "id": "951009f0",
   "metadata": {},
   "outputs": [],
   "source": [
    "vec_forza = [] # ciascun entrata è un atomo, ciascun atomo è una lista di tre entrate\n",
    "for i, atom_neighbours in enumerate(which_neighbour):\n",
    "    forza_x, forza_y, forza_z = 0, 0, 0\n",
    "    for j, neighbour_index in enumerate(atom_neighbours):\n",
    "        d_ij = how_distant[i][j]\n",
    "        forza_x += addendo_derivata_lennard_jones(vec_x[i], vec_x[neighbour_index], d_ij)\n",
    "        forza_y += addendo_derivata_lennard_jones(vec_y[i], vec_y[neighbour_index], d_ij)\n",
    "        forza_z += addendo_derivata_lennard_jones(vec_z[i], vec_z[neighbour_index], d_ij)\n",
    "        \n",
    "        vec_forza.append([-forza_x, -forza_y, -forza_z])"
   ]
  },
  {
   "cell_type": "code",
   "execution_count": null,
   "id": "ff3f2776",
   "metadata": {},
   "outputs": [],
   "source": []
  }
 ],
 "metadata": {
  "kernelspec": {
   "display_name": "Python 3",
   "language": "python",
   "name": "python3"
  },
  "language_info": {
   "codemirror_mode": {
    "name": "ipython",
    "version": 3
   },
   "file_extension": ".py",
   "mimetype": "text/x-python",
   "name": "python",
   "nbconvert_exporter": "python",
   "pygments_lexer": "ipython3",
   "version": "3.11.11"
  }
 },
 "nbformat": 4,
 "nbformat_minor": 5
}
