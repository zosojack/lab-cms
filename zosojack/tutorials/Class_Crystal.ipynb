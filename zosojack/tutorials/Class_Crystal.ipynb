{
 "cells": [
  {
   "cell_type": "markdown",
   "id": "1693029e",
   "metadata": {},
   "source": [
    "# Classical Molecular Dynamics"
   ]
  },
  {
   "cell_type": "markdown",
   "id": "b6ed8e31",
   "metadata": {},
   "source": [
    "Classical molecular dynamics with Crystal class."
   ]
  },
  {
   "cell_type": "markdown",
   "id": "1f390fd8",
   "metadata": {},
   "source": [
    "## Initialize a Crystal object"
   ]
  },
  {
   "cell_type": "markdown",
   "id": "68fa2684",
   "metadata": {},
   "source": [
    "A crystal is built from a file containing atoms' coordinates. It must have 3 coordinates (x y z) for each row."
   ]
  },
  {
   "cell_type": "code",
   "execution_count": null,
   "id": "cb05a230",
   "metadata": {},
   "outputs": [],
   "source": [
    "from Crystal import Crystal\n",
    "# Insert a valid file name here\n",
    "filename = '../data/fcc100a108.txt'\n",
    "# Initialize a Crystal object using the from_file method\n",
    "cristallo = Crystal.from_file(filename)"
   ]
  },
  {
   "cell_type": "markdown",
   "id": "6a9509a8",
   "metadata": {},
   "source": [
    "Now it is possible to find all neighbours for each atom and their respective distances. In respect to an atom, another atom of the crystal is considered as neighbour if its distance is less than a *cutoff radious* $R_C$."
   ]
  },
  {
   "cell_type": "code",
   "execution_count": null,
   "id": "2a2eaa5b",
   "metadata": {},
   "outputs": [
    {
     "ename": "NameError",
     "evalue": "name 'cristallo' is not defined",
     "output_type": "error",
     "traceback": [
      "\u001b[0;31m---------------------------------------------------------------------------\u001b[0m",
      "\u001b[0;31mNameError\u001b[0m                                 Traceback (most recent call last)",
      "Cell \u001b[0;32mIn[1], line 1\u001b[0m\n\u001b[0;32m----> 1\u001b[0m cristallo\u001b[38;5;241m.\u001b[39mfind_neighbours(R_C\u001b[38;5;241m=\u001b[39m\u001b[38;5;241m3\u001b[39m)\n",
      "\u001b[0;31mNameError\u001b[0m: name 'cristallo' is not defined"
     ]
    }
   ],
   "source": [
    "cristallo.find_neighbours(R_C=3) # cutoff radious = 3 Angstrom"
   ]
  },
  {
   "cell_type": "markdown",
   "id": "7a8080a0",
   "metadata": {},
   "source": [
    "This will populate the neighbours and distances attributes of each atom in the crystal. Having these informations, the potential energy of the system can be calculated as the sum of each couples' Lennard-Jones potentials."
   ]
  },
  {
   "cell_type": "markdown",
   "id": "97ee6d79",
   "metadata": {},
   "source": []
  }
 ],
 "metadata": {
  "kernelspec": {
   "display_name": "Python 3",
   "language": "python",
   "name": "python3"
  },
  "language_info": {
   "codemirror_mode": {
    "name": "ipython",
    "version": 3
   },
   "file_extension": ".py",
   "mimetype": "text/x-python",
   "name": "python",
   "nbconvert_exporter": "python",
   "pygments_lexer": "ipython3",
   "version": "3.11.11"
  }
 },
 "nbformat": 4,
 "nbformat_minor": 5
}
