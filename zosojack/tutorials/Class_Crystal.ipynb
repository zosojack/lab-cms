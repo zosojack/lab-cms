{
 "cells": [
  {
   "cell_type": "markdown",
   "id": "1693029e",
   "metadata": {},
   "source": [
    "# Classical Molecular Dynamics"
   ]
  },
  {
   "cell_type": "markdown",
   "id": "b6ed8e31",
   "metadata": {},
   "source": [
    "Classical molecular dynamics with Crystal class."
   ]
  },
  {
   "cell_type": "code",
   "execution_count": 5,
   "id": "3555f5be",
   "metadata": {},
   "outputs": [],
   "source": [
    "import sys\n",
    "sys.path.append('../') "
   ]
  },
  {
   "cell_type": "markdown",
   "id": "8ad77aa7",
   "metadata": {},
   "source": [
    "---"
   ]
  },
  {
   "cell_type": "markdown",
   "id": "1f390fd8",
   "metadata": {},
   "source": [
    "## Initialize a Crystal object"
   ]
  },
  {
   "cell_type": "markdown",
   "id": "68fa2684",
   "metadata": {},
   "source": [
    "A crystal is built from a file containing atoms' coordinates. It must have 3 coordinates (x y z) for each row."
   ]
  },
  {
   "cell_type": "code",
   "execution_count": null,
   "id": "cb05a230",
   "metadata": {},
   "outputs": [],
   "source": [
    "from libraries.Crystal import Crystal\n",
    "# Insert a valid file name here\n",
    "filename = '../../data/fcc100a108.txt'\n",
    "# Initialize a Crystal object using the from_file method\n",
    "cristallo = Crystal.from_file(filename)"
   ]
  },
  {
   "cell_type": "markdown",
   "id": "e2d32b91",
   "metadata": {},
   "source": [
    "---"
   ]
  },
  {
   "cell_type": "markdown",
   "id": "918f2eb7",
   "metadata": {},
   "source": [
    "## Calculate potential energy"
   ]
  },
  {
   "cell_type": "markdown",
   "id": "6a9509a8",
   "metadata": {},
   "source": [
    "Now it is possible to find all neighbours for each atom and their respective distances. In respect to an atom, another atom of the crystal is considered as neighbour if its distance is less than a *cutoff radious* $R_C$."
   ]
  },
  {
   "cell_type": "code",
   "execution_count": 7,
   "id": "2a2eaa5b",
   "metadata": {},
   "outputs": [],
   "source": [
    "cristallo.find_neighbours(R_C=3) # cutoff radious = 3 Angstrom"
   ]
  },
  {
   "cell_type": "markdown",
   "id": "7a8080a0",
   "metadata": {},
   "source": [
    "This will populate the neighbours and distances attributes of each atom in the crystal. Having these informations, the potential energy of the system can be calculated as the sum of each couples' Lennard-Jones' potentials.\n",
    "In math:\n",
    "$$\n",
    "V = \\frac12 \\sum_{i\\neq j \\atop i,j=1}^{N} \\phi(r_{ij})\n",
    "$$\n",
    "where $\\phi$ is Lennard-Jonnes' potential:\n",
    "$$\n",
    "\\phi(r_{ij}) = 4\\varepsilon\\left[\n",
    "    \\left( \\frac{\\sigma}{r_{ij}} \\right)^{12} -\n",
    "    \\left( \\frac{\\sigma}{r_{ij}} \\right)^{6}\n",
    "    \\right]\n",
    "$$\n",
    "e.g. silver (Ag) has: $\\varepsilon=0.345\\ \\text{eV}$ and $\\sigma=2.644\\ \\text{\\AA}$."
   ]
  },
  {
   "cell_type": "code",
   "execution_count": 8,
   "id": "97ee6d79",
   "metadata": {},
   "outputs": [
    {
     "name": "stdout",
     "output_type": "stream",
     "text": [
      "V = -154.7957616328464\n"
     ]
    }
   ],
   "source": [
    "# The method calculate_potential() takes epsilon and sigma as arguments \n",
    "potential = cristallo.calculate_potential(sigma=2.644, epsilon=0.345)\n",
    "print(f\"V = {potential}\")"
   ]
  },
  {
   "cell_type": "markdown",
   "id": "7e50d178",
   "metadata": {},
   "source": [
    "---"
   ]
  },
  {
   "cell_type": "markdown",
   "id": "15aec4a9",
   "metadata": {},
   "source": [
    "## Calculate the forces on each atom"
   ]
  },
  {
   "cell_type": "markdown",
   "id": "74573bfa",
   "metadata": {},
   "source": [
    "The force on the $k$-th atom is the partial derivative of the potential in respect to the coordinates of that atom.\n",
    "$$\n",
    "\\vec{F}_k(\\{r_{ij}\\}_{ij}) = -\\vec{\\nabla}_k\\ V(\\{r_{ij}\\}_{ij}) = \n",
    "-\\left(\n",
    "\\frac{\\partial V}{\\partial x_k}, \n",
    "\\frac{\\partial V}{\\partial y_k}, \n",
    "\\frac{\\partial V}{\\partial z_k}\n",
    "\\right)\n",
    "$$\n",
    "e.g. the $x$ component of the force on the $k$-th atom is:\n",
    "$$\n",
    "{F_k}_x = -\\frac12\\frac{\\partial}{\\partial x_k}\\sum_{i\\neq j} \\phi(r_{ij}) =\n",
    "-\\frac12 \\sum_{i\\neq j} \\frac{\\partial\\phi(r_{ij})}{\\partial x_k}\n",
    "$$\n",
    "using the *chain rule*:\n",
    "$$\n",
    "{F_k}_x = -\\frac12\\sum_{i\\neq j}\\frac{\\partial\\phi(r_{ij})}{\\partial x_k} = \n",
    "-\\frac12\\sum_{i\\neq j}\\frac{\\partial\\, r_{ij}}{\\partial x_k}\n",
    "\\frac{\\partial\\phi(r_{ij})}{\\partial\\, r_{ij}}\n",
    "$$\n",
    "where:\n",
    "$$\n",
    "\\begin{align*}\n",
    "\\frac{\\partial\\, r_{ij}}{\\partial x_k} &= \\frac{\\partial}{\\partial x_k}\n",
    "\\left[ (x_i-x_j)^2+(y_i-y_j)^2+(z_i-z_j)^2 \\right]^{\\frac12}=\\\\ \n",
    "&= 2(x_i-x_j)\\frac{1}{2}\\left[ (x_i-x_j)^2+(y_i-y_j)^2+(z_i-z_j)^2 \\right]^{-\\frac12}\\delta_{ik}=\\\\\n",
    "&= \\frac{(x_i-x_j)}{r_{ij}}\\delta_{ik}\n",
    "\\end{align*}\n",
    "$$\n",
    "and: \n",
    "$$\n",
    "\\begin{align*}\n",
    "\\frac{\\partial\\phi(r_{ij})}{\\partial r_{ij}} &= \\frac{\\partial}{\\partial r_{ij}}\n",
    "4\\varepsilon\\left[\n",
    "\\left( \\frac{\\sigma}{r_{ij}} \\right)^{12} -\n",
    "\\left( \\frac{\\sigma}{r_{ij}} \\right)^{6}\n",
    "\\right] =\\\\\n",
    "&=\n",
    "4\\varepsilon\\left[\n",
    "-\\frac{12\\sigma}{r_{ij}^{2}}\\left( \\frac{\\sigma}{r_{ij}} \\right)^{11} +\n",
    "\\frac{6\\sigma}{r_{ij}^{2}}\\left( \\frac{\\sigma}{r_{ij}} \\right)^{5}\n",
    "\\right] =\\\\\n",
    "&= \n",
    "4\\varepsilon\\left[\n",
    "-12\\left( \\frac{\\sigma^{12}}{r_{ij}^{13}} \\right) +\n",
    "6\\left( \\frac{\\sigma^{6}}{r_{ij}^{7}} \\right)\n",
    "\\right]\n",
    "\\end{align*}\n",
    "$$"
   ]
  },
  {
   "cell_type": "markdown",
   "id": "a1254032",
   "metadata": {},
   "source": [
    "In the end:\n",
    "$$\n",
    "-\\frac12 \\sum_{i\\neq j} \\frac{\\partial\\phi(r_{ij})}{\\partial x_k} = \n",
    "-\\sum_{j\\neq k}\\ '\\ 2\\varepsilon \\frac{(x_k-x_j)}{r_{kj}} \\left[\n",
    "-12\\left( \\frac{\\sigma^{12}}{r_{kj}^{13}} \\right) +\n",
    "6\\left( \\frac{\\sigma^{6}}{r_{kj}^{7}} \\right)\n",
    "\\right]\n",
    "$$\n",
    "or, in a cleaner way:\n",
    "$$\n",
    "F_{kx} = 24\\sigma^6\\varepsilon\\sum_{i\\neq k} \\frac{1}{r_{ik}^8}\n",
    "\\left[\n",
    "\\frac{2\\sigma^6}{r_{ik}^6}-1\n",
    "\\right]\n",
    "\\left(\n",
    "x_i-x_k\n",
    "\\right)\n",
    "$$"
   ]
  },
  {
   "cell_type": "code",
   "execution_count": 9,
   "id": "d5972e6c",
   "metadata": {},
   "outputs": [],
   "source": [
    "# All this can be calculated with the calculate_forces() method\n",
    "vec_forze = cristallo.calculate_forces(sigma=2.644, epsilon=0.345)"
   ]
  },
  {
   "cell_type": "markdown",
   "id": "ab90ff0b",
   "metadata": {},
   "source": [
    "Now each entry of `vec_forze` is a list containing the three components (x, y, z) of the force acting on the corresponding atom. For example, `vec_forze[0]` contains the force on the first atom: `[Fx, Fy, Fz]`."
   ]
  },
  {
   "cell_type": "markdown",
   "id": "ae872090",
   "metadata": {},
   "source": []
  }
 ],
 "metadata": {
  "kernelspec": {
   "display_name": "Python 3",
   "language": "python",
   "name": "python3"
  },
  "language_info": {
   "codemirror_mode": {
    "name": "ipython",
    "version": 3
   },
   "file_extension": ".py",
   "mimetype": "text/x-python",
   "name": "python",
   "nbconvert_exporter": "python",
   "pygments_lexer": "ipython3",
   "version": "3.11.11"
  }
 },
 "nbformat": 4,
 "nbformat_minor": 5
}
