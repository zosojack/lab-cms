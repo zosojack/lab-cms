{
 "cells": [
  {
   "cell_type": "markdown",
   "id": "1693029e",
   "metadata": {},
   "source": [
    "# Classical Molecular Dynamics"
   ]
  },
  {
   "cell_type": "markdown",
   "id": "b6ed8e31",
   "metadata": {},
   "source": [
    "Classical molecular dynamics with Crystal classes."
   ]
  },
  {
   "cell_type": "code",
   "execution_count": 1,
   "id": "3555f5be",
   "metadata": {},
   "outputs": [],
   "source": [
    "import sys\n",
    "sys.path.append('../') "
   ]
  },
  {
   "cell_type": "markdown",
   "id": "8ad77aa7",
   "metadata": {},
   "source": [
    "---"
   ]
  },
  {
   "cell_type": "markdown",
   "id": "1f390fd8",
   "metadata": {},
   "source": [
    "## Initialize a CrystalStructure object"
   ]
  },
  {
   "cell_type": "markdown",
   "id": "285acaf2",
   "metadata": {},
   "source": [
    "### Build the object"
   ]
  },
  {
   "cell_type": "markdown",
   "id": "68fa2684",
   "metadata": {},
   "source": [
    "A crystal is built from a file containing atoms' coordinates. It must have 3 coordinates (x y z) for each row."
   ]
  },
  {
   "cell_type": "code",
   "execution_count": 2,
   "id": "cb05a230",
   "metadata": {},
   "outputs": [],
   "source": [
    "from libraries.CrystalStructure import CrystalStructure as Crystal\n",
    "# Insert a valid file name here\n",
    "filename = '../../data/fcc100a256.txt'\n",
    "# Initialize a Crystal object using the from_file method (constructor)\n",
    "cristallo = Crystal.from_file(filename)"
   ]
  },
  {
   "cell_type": "markdown",
   "id": "1f16ffd9",
   "metadata": {},
   "source": [
    "### Find and store distances"
   ]
  },
  {
   "cell_type": "markdown",
   "id": "6a9509a8",
   "metadata": {},
   "source": [
    "With the `find_neighbours()` method it is possible to find all neighbours for each atom and their respective distances. In respect to an atom, another atom of the crystal is considered as neighbour if its distance is less than a *cutoff radious* $R_C$."
   ]
  },
  {
   "cell_type": "code",
   "execution_count": 3,
   "id": "2a2eaa5b",
   "metadata": {},
   "outputs": [],
   "source": [
    "# First set a cutoff radious = 4.5 Angstrom\n",
    "cristallo.set_R_C(4.5)\n",
    "# Then find neighbours\n",
    "cristallo.find_neighbours() "
   ]
  },
  {
   "cell_type": "markdown",
   "id": "1afd2845",
   "metadata": {},
   "source": [
    "This line of code triggers the creation of three members in the object `cristallo`:\n",
    "- `cristallo.N_neighbours` \n",
    "    - list of scalars \n",
    "    - $i$-th entry is the number of neighbours of $i$-th atom\n",
    "- `cristallo.which_neighbour`\n",
    "    - list of lists \n",
    "    - $i$-th entry is the indexes' list of the neighbours of $i$-th atom\n",
    "- `cristallo.how_distant`\n",
    "    - list of lists \n",
    "    - $i$-th entry is the distances' list of $i$-th atom from his neighbours\n",
    "    - the order of appearance of the distances matches the order in `.which_neighbour`; this means that its first entry .how_distant[i][0] is the distance between atom `i` and atom `.which_neighbour[i][0]`"
   ]
  },
  {
   "cell_type": "markdown",
   "id": "e2d32b91",
   "metadata": {},
   "source": [
    "---"
   ]
  },
  {
   "cell_type": "markdown",
   "id": "918f2eb7",
   "metadata": {},
   "source": [
    "## Calculate potential energy leveraging CrystalPotential"
   ]
  },
  {
   "cell_type": "markdown",
   "id": "741d5f45",
   "metadata": {},
   "source": [
    "### Theoretical background"
   ]
  },
  {
   "cell_type": "markdown",
   "id": "7a8080a0",
   "metadata": {},
   "source": [
    "After `find_neighbours()` execution, the neighbours and distances attributes of each atom in the crystal are populated. Having these informations, the potential energy of the system can be calculated as the sum of each couples' Lennard-Jones' potentials.\n",
    "In math:\n",
    "$$\n",
    "V = \\frac12 \\sum_{i\\neq j \\atop i,j=1}^{N} \\phi(r_{ij})\n",
    "$$\n",
    "where $\\phi$ is Lennard-Jones' potential:\n",
    "$$\n",
    "\\phi(r_{ij}) = 4\\varepsilon\\left[\n",
    "    \\left( \\frac{\\sigma}{r_{ij}} \\right)^{12} -\n",
    "    \\left( \\frac{\\sigma}{r_{ij}} \\right)^{6}\n",
    "    \\right]\n",
    "$$\n",
    "e.g. silver (Ag) has: $\\varepsilon=0.345\\ \\text{eV}$ and $\\sigma=2.644\\ \\text{\\AA}$."
   ]
  },
  {
   "cell_type": "markdown",
   "id": "a9185b14",
   "metadata": {},
   "source": [
    "### Initialize a CrystalPotential object"
   ]
  },
  {
   "cell_type": "code",
   "execution_count": 4,
   "id": "4b552208",
   "metadata": {},
   "outputs": [],
   "source": [
    "from libraries.CrystalPotential import CrystalPotential\n",
    "potenziale = CrystalPotential(cristallo, sigma=2.644, epsilon=0.345)"
   ]
  },
  {
   "cell_type": "markdown",
   "id": "8b939118",
   "metadata": {},
   "source": [
    "### Actual computation of $V$"
   ]
  },
  {
   "cell_type": "code",
   "execution_count": 5,
   "id": "97ee6d79",
   "metadata": {},
   "outputs": [
    {
     "name": "stdout",
     "output_type": "stream",
     "text": [
      "V = -453.4501806493616\n"
     ]
    }
   ],
   "source": [
    "# The method compute_potential() takes epsilon and sigma as arguments \n",
    "potential = potenziale.compute_potential()\n",
    "print(f\"V = {potential}\")"
   ]
  },
  {
   "cell_type": "markdown",
   "id": "7e50d178",
   "metadata": {},
   "source": [
    "---"
   ]
  },
  {
   "cell_type": "markdown",
   "id": "15aec4a9",
   "metadata": {},
   "source": [
    "## Calculate the forces on each atom"
   ]
  },
  {
   "cell_type": "markdown",
   "id": "ea535136",
   "metadata": {},
   "source": [
    "### Theoretical background"
   ]
  },
  {
   "cell_type": "markdown",
   "id": "74573bfa",
   "metadata": {},
   "source": [
    "The force on the $k$-th atom is the partial derivative of the potential in respect to the coordinates of that atom.\n",
    "$$\n",
    "\\vec{F}_k(\\{r_{ij}\\}_{ij}) = -\\vec{\\nabla}_k\\ V(\\{r_{ij}\\}_{ij}) = \n",
    "-\\left(\n",
    "\\frac{\\partial V}{\\partial x_k}, \n",
    "\\frac{\\partial V}{\\partial y_k}, \n",
    "\\frac{\\partial V}{\\partial z_k}\n",
    "\\right)\n",
    "$$\n",
    "e.g. the $x$ component of the force on the $k$-th atom is:\n",
    "$$\n",
    "{F_k}_x = -\\frac12\\frac{\\partial}{\\partial x_k}\\sum_{i\\neq j} \\phi(r_{ij}) =\n",
    "-\\frac12 \\sum_{i\\neq j} \\frac{\\partial\\phi(r_{ij})}{\\partial x_k}\n",
    "$$\n",
    "using the *chain rule*:\n",
    "$$\n",
    "{F_k}_x = -\\frac12\\sum_{i\\neq j}\\frac{\\partial\\phi(r_{ij})}{\\partial x_k} = \n",
    "-\\frac12\\sum_{i\\neq j}\\frac{\\partial\\, r_{ij}}{\\partial x_k}\n",
    "\\frac{\\partial\\phi(r_{ij})}{\\partial\\, r_{ij}}\n",
    "$$\n",
    "where:\n",
    "$$\n",
    "\\begin{align*}\n",
    "\\frac{\\partial\\, r_{ij}}{\\partial x_k} &= \\frac{\\partial}{\\partial x_k}\n",
    "\\left[ (x_i-x_j)^2+(y_i-y_j)^2+(z_i-z_j)^2 \\right]^{\\frac12}=\\\\ \n",
    "&= 2(x_i-x_j)\\frac{1}{2}\\left[ (x_i-x_j)^2+(y_i-y_j)^2+(z_i-z_j)^2 \\right]^{-\\frac12}\\delta_{ik}=\\\\\n",
    "&= \\frac{(x_i-x_j)}{r_{ij}}\\delta_{ik}\n",
    "\\end{align*}\n",
    "$$\n",
    "and: \n",
    "$$\n",
    "\\begin{align*}\n",
    "\\frac{\\partial\\phi(r_{ij})}{\\partial r_{ij}} &= \\frac{\\partial}{\\partial r_{ij}}\n",
    "4\\varepsilon\\left[\n",
    "\\left( \\frac{\\sigma}{r_{ij}} \\right)^{12} -\n",
    "\\left( \\frac{\\sigma}{r_{ij}} \\right)^{6}\n",
    "\\right] =\\\\\n",
    "&=\n",
    "4\\varepsilon\\left[\n",
    "-\\frac{12\\sigma}{r_{ij}^{2}}\\left( \\frac{\\sigma}{r_{ij}} \\right)^{11} +\n",
    "\\frac{6\\sigma}{r_{ij}^{2}}\\left( \\frac{\\sigma}{r_{ij}} \\right)^{5}\n",
    "\\right] =\\\\\n",
    "&= \n",
    "4\\varepsilon\\left[\n",
    "-12\\left( \\frac{\\sigma^{12}}{r_{ij}^{13}} \\right) +\n",
    "6\\left( \\frac{\\sigma^{6}}{r_{ij}^{7}} \\right)\n",
    "\\right]\n",
    "\\end{align*}\n",
    "$$"
   ]
  },
  {
   "cell_type": "markdown",
   "id": "a1254032",
   "metadata": {},
   "source": [
    "In the end:\n",
    "$$\n",
    "-\\frac12 \\sum_{i\\neq j} \\frac{\\partial\\phi(r_{ij})}{\\partial x_k} = \n",
    "-\\sum_{j\\neq k}\\ '\\ 2\\varepsilon \\frac{(x_k-x_j)}{r_{kj}} \\left[\n",
    "-12\\left( \\frac{\\sigma^{12}}{r_{kj}^{13}} \\right) +\n",
    "6\\left( \\frac{\\sigma^{6}}{r_{kj}^{7}} \\right)\n",
    "\\right]\n",
    "$$\n",
    "or, in a cleaner way:\n",
    "$$\n",
    "F_{kx} = 24\\sigma^6\\varepsilon\\sum_{i\\neq k} \\frac{1}{r_{ik}^8}\n",
    "\\left[\n",
    "\\frac{2\\sigma^6}{r_{ik}^6}-1\n",
    "\\right]\n",
    "\\left(\n",
    "x_i-x_k\n",
    "\\right)\n",
    "$$"
   ]
  },
  {
   "cell_type": "markdown",
   "id": "e531cc77",
   "metadata": {},
   "source": [
    "### Actual computation of $\\{\\vec{F}_k\\}_{k=0,\\dots,N-1}$"
   ]
  },
  {
   "cell_type": "code",
   "execution_count": 6,
   "id": "d5972e6c",
   "metadata": {},
   "outputs": [],
   "source": [
    "# All this can be calculated with the compute_forces() method\n",
    "vec_forze = potenziale.compute_forces_matrix()"
   ]
  },
  {
   "cell_type": "markdown",
   "id": "ab90ff0b",
   "metadata": {},
   "source": [
    "Now each entry of `vec_forze` is a list containing the three components (x, y, z) of the force acting on the corresponding atom. For example, `vec_forze[0]` contains the force on the first atom: `[Fx, Fy, Fz]`. As a matter of course, vector `vec_forze` has $N$ entries in total, one for each atom."
   ]
  },
  {
   "cell_type": "markdown",
   "id": "46877af7",
   "metadata": {},
   "source": [
    "---"
   ]
  },
  {
   "cell_type": "markdown",
   "id": "c37cb270",
   "metadata": {},
   "source": [
    "## Evolution of the system with CrystalDynamics"
   ]
  },
  {
   "cell_type": "markdown",
   "id": "d171acd8",
   "metadata": {},
   "source": [
    "### Step: 1 femtosecond"
   ]
  },
  {
   "cell_type": "markdown",
   "id": "fa973ef6",
   "metadata": {},
   "source": [
    "The `run_dynamics` method returns various metadata of the simulation such as the evolutions of $E_\\text{tot}$, $E_K$ and temperature $T$."
   ]
  },
  {
   "cell_type": "code",
   "execution_count": 7,
   "id": "c9a835f7",
   "metadata": {},
   "outputs": [],
   "source": [
    "from libraries.CrystalDynamics import CrystalDynamics as Dynamics\n",
    "# choose a time step dt = 1 fs\n",
    "dt = 1e-15\n",
    "# and an initial temperature T = 20 K\n",
    "T = 20\n",
    "# declare the atomic mass of the atoms considered\n",
    "silver_mass = 108"
   ]
  },
  {
   "cell_type": "code",
   "execution_count": 8,
   "id": "88eb92a4",
   "metadata": {},
   "outputs": [
    {
     "name": "stdout",
     "output_type": "stream",
     "text": [
      "step 1/100: E_tot=-452.788 eV, V=-453.451 eV, K=0.663 eV, T=20.0 K\n",
      "step 2/100: E_tot=-452.788 eV, V=-453.451 eV, K=0.662 eV, T=20.0 K\n",
      "step 3/100: E_tot=-452.788 eV, V=-453.450 eV, K=0.661 eV, T=20.0 K\n",
      "step 4/100: E_tot=-452.788 eV, V=-453.448 eV, K=0.660 eV, T=19.9 K\n",
      "step 5/100: E_tot=-452.788 eV, V=-453.445 eV, K=0.657 eV, T=19.8 K\n",
      "step 6/100: E_tot=-452.788 eV, V=-453.442 eV, K=0.653 eV, T=19.7 K\n",
      "step 7/100: E_tot=-452.788 eV, V=-453.437 eV, K=0.649 eV, T=19.6 K\n",
      "step 8/100: E_tot=-452.788 eV, V=-453.432 eV, K=0.644 eV, T=19.5 K\n",
      "step 9/100: E_tot=-452.788 eV, V=-453.426 eV, K=0.638 eV, T=19.3 K\n",
      "step 10/100: E_tot=-452.788 eV, V=-453.419 eV, K=0.631 eV, T=19.1 K\n",
      "step 11/100: E_tot=-452.788 eV, V=-453.412 eV, K=0.624 eV, T=18.9 K\n",
      "step 12/100: E_tot=-452.788 eV, V=-453.404 eV, K=0.616 eV, T=18.6 K\n",
      "step 13/100: E_tot=-452.788 eV, V=-453.395 eV, K=0.607 eV, T=18.3 K\n",
      "step 14/100: E_tot=-452.788 eV, V=-453.386 eV, K=0.598 eV, T=18.1 K\n",
      "step 15/100: E_tot=-452.788 eV, V=-453.377 eV, K=0.588 eV, T=17.8 K\n",
      "step 16/100: E_tot=-452.788 eV, V=-453.366 eV, K=0.578 eV, T=17.5 K\n",
      "step 17/100: E_tot=-452.788 eV, V=-453.356 eV, K=0.568 eV, T=17.1 K\n",
      "step 18/100: E_tot=-452.788 eV, V=-453.345 eV, K=0.557 eV, T=16.8 K\n",
      "step 19/100: E_tot=-452.788 eV, V=-453.333 eV, K=0.545 eV, T=16.5 K\n",
      "step 20/100: E_tot=-452.788 eV, V=-453.322 eV, K=0.534 eV, T=16.1 K\n",
      "step 21/100: E_tot=-452.788 eV, V=-453.310 eV, K=0.522 eV, T=15.8 K\n",
      "step 22/100: E_tot=-452.788 eV, V=-453.298 eV, K=0.510 eV, T=15.4 K\n",
      "step 23/100: E_tot=-452.788 eV, V=-453.286 eV, K=0.498 eV, T=15.1 K\n",
      "step 24/100: E_tot=-452.788 eV, V=-453.274 eV, K=0.486 eV, T=14.7 K\n",
      "step 25/100: E_tot=-452.788 eV, V=-453.262 eV, K=0.474 eV, T=14.3 K\n",
      "step 26/100: E_tot=-452.788 eV, V=-453.250 eV, K=0.462 eV, T=14.0 K\n",
      "step 27/100: E_tot=-452.788 eV, V=-453.239 eV, K=0.450 eV, T=13.6 K\n",
      "step 28/100: E_tot=-452.788 eV, V=-453.227 eV, K=0.439 eV, T=13.3 K\n",
      "step 29/100: E_tot=-452.788 eV, V=-453.216 eV, K=0.428 eV, T=12.9 K\n",
      "step 30/100: E_tot=-452.788 eV, V=-453.205 eV, K=0.417 eV, T=12.6 K\n",
      "step 31/100: E_tot=-452.788 eV, V=-453.194 eV, K=0.406 eV, T=12.3 K\n",
      "step 32/100: E_tot=-452.788 eV, V=-453.184 eV, K=0.396 eV, T=12.0 K\n",
      "step 33/100: E_tot=-452.788 eV, V=-453.174 eV, K=0.386 eV, T=11.7 K\n",
      "step 34/100: E_tot=-452.788 eV, V=-453.164 eV, K=0.376 eV, T=11.4 K\n",
      "step 35/100: E_tot=-452.788 eV, V=-453.155 eV, K=0.367 eV, T=11.1 K\n",
      "step 36/100: E_tot=-452.788 eV, V=-453.147 eV, K=0.359 eV, T=10.8 K\n",
      "step 37/100: E_tot=-452.788 eV, V=-453.139 eV, K=0.351 eV, T=10.6 K\n",
      "step 38/100: E_tot=-452.788 eV, V=-453.132 eV, K=0.344 eV, T=10.4 K\n",
      "step 39/100: E_tot=-452.788 eV, V=-453.125 eV, K=0.337 eV, T=10.2 K\n",
      "step 40/100: E_tot=-452.788 eV, V=-453.120 eV, K=0.332 eV, T=10.0 K\n",
      "step 41/100: E_tot=-452.788 eV, V=-453.114 eV, K=0.326 eV, T=9.9 K\n",
      "step 42/100: E_tot=-452.788 eV, V=-453.110 eV, K=0.322 eV, T=9.7 K\n",
      "step 43/100: E_tot=-452.788 eV, V=-453.106 eV, K=0.318 eV, T=9.6 K\n",
      "step 44/100: E_tot=-452.788 eV, V=-453.102 eV, K=0.314 eV, T=9.5 K\n",
      "step 45/100: E_tot=-452.788 eV, V=-453.100 eV, K=0.312 eV, T=9.4 K\n",
      "step 46/100: E_tot=-452.788 eV, V=-453.098 eV, K=0.310 eV, T=9.4 K\n",
      "step 47/100: E_tot=-452.788 eV, V=-453.096 eV, K=0.308 eV, T=9.3 K\n",
      "step 48/100: E_tot=-452.788 eV, V=-453.095 eV, K=0.307 eV, T=9.3 K\n",
      "step 49/100: E_tot=-452.788 eV, V=-453.095 eV, K=0.307 eV, T=9.3 K\n",
      "step 50/100: E_tot=-452.788 eV, V=-453.096 eV, K=0.308 eV, T=9.3 K\n",
      "step 51/100: E_tot=-452.788 eV, V=-453.097 eV, K=0.309 eV, T=9.3 K\n",
      "step 52/100: E_tot=-452.788 eV, V=-453.098 eV, K=0.310 eV, T=9.4 K\n",
      "step 53/100: E_tot=-452.788 eV, V=-453.100 eV, K=0.312 eV, T=9.4 K\n",
      "step 54/100: E_tot=-452.788 eV, V=-453.103 eV, K=0.315 eV, T=9.5 K\n",
      "step 55/100: E_tot=-452.788 eV, V=-453.106 eV, K=0.318 eV, T=9.6 K\n",
      "step 56/100: E_tot=-452.788 eV, V=-453.109 eV, K=0.321 eV, T=9.7 K\n",
      "step 57/100: E_tot=-452.788 eV, V=-453.113 eV, K=0.325 eV, T=9.8 K\n",
      "step 58/100: E_tot=-452.788 eV, V=-453.117 eV, K=0.329 eV, T=9.9 K\n",
      "step 59/100: E_tot=-452.788 eV, V=-453.122 eV, K=0.334 eV, T=10.1 K\n",
      "step 60/100: E_tot=-452.788 eV, V=-453.126 eV, K=0.338 eV, T=10.2 K\n",
      "step 61/100: E_tot=-452.788 eV, V=-453.131 eV, K=0.343 eV, T=10.4 K\n",
      "step 62/100: E_tot=-452.788 eV, V=-453.136 eV, K=0.348 eV, T=10.5 K\n",
      "step 63/100: E_tot=-452.788 eV, V=-453.142 eV, K=0.354 eV, T=10.7 K\n",
      "step 64/100: E_tot=-452.788 eV, V=-453.147 eV, K=0.359 eV, T=10.8 K\n",
      "step 65/100: E_tot=-452.788 eV, V=-453.152 eV, K=0.364 eV, T=11.0 K\n",
      "step 66/100: E_tot=-452.788 eV, V=-453.158 eV, K=0.370 eV, T=11.2 K\n",
      "step 67/100: E_tot=-452.788 eV, V=-453.163 eV, K=0.375 eV, T=11.3 K\n",
      "step 68/100: E_tot=-452.788 eV, V=-453.168 eV, K=0.380 eV, T=11.5 K\n",
      "step 69/100: E_tot=-452.788 eV, V=-453.174 eV, K=0.386 eV, T=11.7 K\n",
      "step 70/100: E_tot=-452.788 eV, V=-453.179 eV, K=0.391 eV, T=11.8 K\n",
      "step 71/100: E_tot=-452.788 eV, V=-453.184 eV, K=0.396 eV, T=12.0 K\n",
      "step 72/100: E_tot=-452.788 eV, V=-453.189 eV, K=0.401 eV, T=12.1 K\n",
      "step 73/100: E_tot=-452.788 eV, V=-453.193 eV, K=0.405 eV, T=12.2 K\n",
      "step 74/100: E_tot=-452.788 eV, V=-453.198 eV, K=0.410 eV, T=12.4 K\n",
      "step 75/100: E_tot=-452.788 eV, V=-453.202 eV, K=0.414 eV, T=12.5 K\n",
      "step 76/100: E_tot=-452.788 eV, V=-453.206 eV, K=0.418 eV, T=12.6 K\n",
      "step 77/100: E_tot=-452.788 eV, V=-453.209 eV, K=0.421 eV, T=12.7 K\n",
      "step 78/100: E_tot=-452.788 eV, V=-453.213 eV, K=0.425 eV, T=12.8 K\n",
      "step 79/100: E_tot=-452.788 eV, V=-453.216 eV, K=0.428 eV, T=12.9 K\n",
      "step 80/100: E_tot=-452.788 eV, V=-453.218 eV, K=0.430 eV, T=13.0 K\n",
      "step 81/100: E_tot=-452.788 eV, V=-453.221 eV, K=0.433 eV, T=13.1 K\n",
      "step 82/100: E_tot=-452.788 eV, V=-453.223 eV, K=0.435 eV, T=13.1 K\n",
      "step 83/100: E_tot=-452.788 eV, V=-453.225 eV, K=0.436 eV, T=13.2 K\n",
      "step 84/100: E_tot=-452.788 eV, V=-453.226 eV, K=0.438 eV, T=13.2 K\n",
      "step 85/100: E_tot=-452.788 eV, V=-453.227 eV, K=0.439 eV, T=13.3 K\n",
      "step 86/100: E_tot=-452.788 eV, V=-453.228 eV, K=0.440 eV, T=13.3 K\n",
      "step 87/100: E_tot=-452.788 eV, V=-453.229 eV, K=0.441 eV, T=13.3 K\n",
      "step 88/100: E_tot=-452.788 eV, V=-453.229 eV, K=0.441 eV, T=13.3 K\n",
      "step 89/100: E_tot=-452.788 eV, V=-453.229 eV, K=0.441 eV, T=13.3 K\n",
      "step 90/100: E_tot=-452.788 eV, V=-453.229 eV, K=0.441 eV, T=13.3 K\n",
      "step 91/100: E_tot=-452.788 eV, V=-453.229 eV, K=0.440 eV, T=13.3 K\n",
      "step 92/100: E_tot=-452.788 eV, V=-453.228 eV, K=0.440 eV, T=13.3 K\n",
      "step 93/100: E_tot=-452.788 eV, V=-453.227 eV, K=0.439 eV, T=13.3 K\n",
      "step 94/100: E_tot=-452.788 eV, V=-453.226 eV, K=0.438 eV, T=13.2 K\n",
      "step 95/100: E_tot=-452.788 eV, V=-453.225 eV, K=0.437 eV, T=13.2 K\n",
      "step 96/100: E_tot=-452.788 eV, V=-453.224 eV, K=0.436 eV, T=13.2 K\n",
      "step 97/100: E_tot=-452.788 eV, V=-453.223 eV, K=0.435 eV, T=13.1 K\n",
      "step 98/100: E_tot=-452.788 eV, V=-453.222 eV, K=0.434 eV, T=13.1 K\n",
      "step 99/100: E_tot=-452.788 eV, V=-453.220 eV, K=0.432 eV, T=13.1 K\n",
      "step 100/100: E_tot=-452.788 eV, V=-453.219 eV, K=0.431 eV, T=13.0 K\n"
     ]
    }
   ],
   "source": [
    "simulazione = Dynamics(cristallo, atomic_mass=silver_mass, dt=dt, temp_ini=T)\n",
    "simulazione.set_seed(12316543)\n",
    "meta_E_tot, meta_E_K, meta_T = simulazione.run_dynamics(n_steps=100, debug=True)"
   ]
  },
  {
   "cell_type": "markdown",
   "id": "bb07165d",
   "metadata": {},
   "source": [
    "### Fluctuations in total energy"
   ]
  },
  {
   "cell_type": "code",
   "execution_count": 9,
   "id": "0cfc0134",
   "metadata": {},
   "outputs": [
    {
     "data": {
      "image/png": "[encoded data removed]",
      "text/plain": [
       "<Figure size 1000x600 with 1 Axes>"
      ]
     },
     "metadata": {},
     "output_type": "display_data"
    }
   ],
   "source": [
    "import matplotlib.pyplot as plt\n",
    "import numpy as np\n",
    "x = np.arange(0, 100, 1) * dt\n",
    "y = meta_E_tot[:100]\n",
    "\n",
    "plt.figure(figsize=(5,3), dpi=200)\n",
    "plt.plot(x, y)\n",
    "plt.ticklabel_format(style='sci', axis='x', scilimits=(0,0), useMathText=True)\n",
    "plt.xlabel('Time [s]')\n",
    "plt.ylabel('Total Energy (eV)')\n",
    "plt.title(f'dt = {dt} fs')\n",
    "plt.grid()\n",
    "plt.show()"
   ]
  },
  {
   "cell_type": "code",
   "execution_count": 14,
   "id": "04a31f17",
   "metadata": {},
   "outputs": [
    {
     "data": {
      "text/plain": [
       "[np.float64(20.02083908995596),\n",
       " np.float64(20.01572059961338),\n",
       " np.float64(19.984663836001886),\n",
       " np.float64(19.927835628446992),\n",
       " np.float64(19.845537185726627),\n",
       " np.float64(19.738202146874563),\n",
       " np.float64(19.60639386332563),\n",
       " np.float64(19.450801919878295),\n",
       " np.float64(19.272237915380998),\n",
       " np.float64(19.071630528347807),\n",
       " np.float64(18.850019896902708),\n",
       " np.float64(18.60855134652507),\n",
       " np.float64(18.348468503010732),\n",
       " np.float64(18.071105831847753),\n",
       " np.float64(17.77788064881746),\n",
       " np.float64(17.47028465004624),\n",
       " np.float64(17.149875012928305),\n",
       " np.float64(16.81826512229151),\n",
       " np.float64(16.47711497886079),\n",
       " np.float64(16.128121349460603),\n",
       " np.float64(15.77300772046578),\n",
       " np.float64(15.413514117728178),\n",
       " np.float64(15.05138685755405),\n",
       " np.float64(14.688368294255696),\n",
       " np.float64(14.326186630329653),\n",
       " np.float64(13.9665458554007),\n",
       " np.float64(13.611115879698632),\n",
       " np.float64(13.261522926987535),\n",
       " np.float64(12.919340250534752),\n",
       " np.float64(12.586079233882481),\n",
       " np.float64(12.263180935866036),\n",
       " np.float64(11.9520081365149),\n",
       " np.float64(11.653837937183077),\n",
       " np.float64(11.369854964500698),\n",
       " np.float64(11.101145223539628),\n",
       " np.float64(10.848690640969432),\n",
       " np.float64(10.613364333980858),\n",
       " np.float64(10.395926635408676),\n",
       " np.float64(10.197021899841571),\n",
       " np.float64(10.017176109610409),\n",
       " np.float64(9.856795293453162),\n",
       " np.float64(9.716164764421576),\n",
       " np.float64(9.595449177280347),\n",
       " np.float64(9.494693399318711),\n",
       " np.float64(9.413824182206621),\n",
       " np.float64(9.352652616349207),\n",
       " np.float64(9.310877343183897),\n",
       " np.float64(9.288088495086654),\n",
       " np.float64(9.28377232706288),\n",
       " np.float64(9.297316499250591),\n",
       " np.float64(9.328015964506147),\n",
       " np.float64(9.375079411021765),\n",
       " np.float64(9.437636206077432),\n",
       " np.float64(9.51474378368954),\n",
       " np.float64(9.605395416111243),\n",
       " np.float64(9.70852830688423),\n",
       " np.float64(9.823031941449223),\n",
       " np.float64(9.947756630200669),\n",
       " np.float64(10.081522178316552),\n",
       " np.float64(10.223126616700364),\n",
       " np.float64(10.371354928925937),\n",
       " np.float64(10.524987710156822),\n",
       " np.float64(10.682809695597527),\n",
       " np.float64(10.843618098095),\n",
       " np.float64(11.006230697013535),\n",
       " np.float64(11.169493623420111),\n",
       " np.float64(11.332288789901437),\n",
       " np.float64(11.49354091695063),\n",
       " np.float64(11.652224111768938),\n",
       " np.float64(11.807367959485974),\n",
       " np.float64(11.958063091168405),\n",
       " np.float64(12.103466197522089),\n",
       " np.float64(12.242804461855352),\n",
       " np.float64(12.375379390622784),\n",
       " np.float64(12.500570024672037),\n",
       " np.float64(12.617835519134397),\n",
       " np.float64(12.72671708469927),\n",
       " np.float64(12.82683928775996),\n",
       " np.float64(12.917910711583929),\n",
       " np.float64(12.999723985214992),\n",
       " np.float64(13.072155191231392),\n",
       " np.float64(13.13516266773754),\n",
       " np.float64(13.188785224035037),\n",
       " np.float64(13.233139793278333),\n",
       " np.float64(13.268418549053017),\n",
       " np.float64(13.29488551620193),\n",
       " np.float64(13.312872709348206),\n",
       " np.float64(13.322775835411708),\n",
       " np.float64(13.325049598970907),\n",
       " np.float64(13.320202651574634),\n",
       " np.float64(13.30879222804733),\n",
       " np.float64(13.29141851444701),\n",
       " np.float64(13.268718793622135),\n",
       " np.float64(13.241361415263935),\n",
       " np.float64(13.210039637963597),\n",
       " np.float64(13.175465391054889),\n",
       " np.float64(13.13836300395442),\n",
       " np.float64(13.099462950305604),\n",
       " np.float64(13.059495653493252),\n",
       " np.float64(13.019185399029958)]"
      ]
     },
     "execution_count": 14,
     "metadata": {},
     "output_type": "execute_result"
    }
   ],
   "source": [
    "meta_T"
   ]
  },
  {
   "cell_type": "markdown",
   "id": "1ce2e2b8",
   "metadata": {},
   "source": [
    "### Step: 5 femtoseconds"
   ]
  },
  {
   "cell_type": "code",
   "execution_count": 10,
   "id": "aeb50522",
   "metadata": {},
   "outputs": [],
   "source": [
    "# instantiation\n",
    "cristallo2 = Crystal.from_file(filename)\n",
    "# cutoff radious\n",
    "cristallo2.set_R_C(4.5)\n",
    "# neighbours\n",
    "cristallo2.find_neighbours() "
   ]
  },
  {
   "cell_type": "code",
   "execution_count": 11,
   "id": "d18baa66",
   "metadata": {},
   "outputs": [],
   "source": [
    "from libraries.CrystalDynamics import CrystalDynamics as Dynamics\n",
    "# choose a time step dt = 5 fs\n",
    "dt2 = 2e-15\n",
    "T2=600"
   ]
  },
  {
   "cell_type": "code",
   "execution_count": 12,
   "id": "b1a0e9eb",
   "metadata": {},
   "outputs": [
    {
     "name": "stdout",
     "output_type": "stream",
     "text": [
      "step 1/100: E_tot=-433.593 eV, V=-453.390 eV, K=19.797 eV, T=598.2 K\n",
      "step 2/100: E_tot=-433.592 eV, V=-453.185 eV, K=19.593 eV, T=592.0 K\n",
      "step 3/100: E_tot=-433.591 eV, V=-452.841 eV, K=19.249 eV, T=581.6 K\n",
      "step 4/100: E_tot=-433.589 eV, V=-452.362 eV, K=18.773 eV, T=567.2 K\n",
      "step 5/100: E_tot=-433.587 eV, V=-451.759 eV, K=18.172 eV, T=549.1 K\n",
      "step 6/100: E_tot=-433.584 eV, V=-451.043 eV, K=17.459 eV, T=527.5 K\n",
      "step 7/100: E_tot=-433.581 eV, V=-450.228 eV, K=16.648 eV, T=503.0 K\n",
      "step 8/100: E_tot=-433.577 eV, V=-449.331 eV, K=15.754 eV, T=476.0 K\n",
      "step 9/100: E_tot=-433.573 eV, V=-448.370 eV, K=14.797 eV, T=447.1 K\n",
      "step 10/100: E_tot=-433.568 eV, V=-447.366 eV, K=13.797 eV, T=416.9 K\n",
      "step 11/100: E_tot=-433.564 eV, V=-446.340 eV, K=12.776 eV, T=386.0 K\n",
      "step 12/100: E_tot=-433.559 eV, V=-445.315 eV, K=11.756 eV, T=355.2 K\n",
      "step 13/100: E_tot=-433.555 eV, V=-444.316 eV, K=10.761 eV, T=325.2 K\n",
      "step 14/100: E_tot=-433.550 eV, V=-443.364 eV, K=9.814 eV, T=296.5 K\n",
      "step 15/100: E_tot=-433.546 eV, V=-442.480 eV, K=8.934 eV, T=270.0 K\n",
      "step 16/100: E_tot=-433.543 eV, V=-441.685 eV, K=8.142 eV, T=246.0 K\n",
      "step 17/100: E_tot=-433.540 eV, V=-440.993 eV, K=7.453 eV, T=225.2 K\n",
      "step 18/100: E_tot=-433.538 eV, V=-440.417 eV, K=6.879 eV, T=207.9 K\n",
      "step 19/100: E_tot=-433.536 eV, V=-439.965 eV, K=6.429 eV, T=194.3 K\n",
      "step 20/100: E_tot=-433.536 eV, V=-439.641 eV, K=6.105 eV, T=184.5 K\n",
      "step 21/100: E_tot=-433.537 eV, V=-439.443 eV, K=5.907 eV, T=178.5 K\n",
      "step 22/100: E_tot=-433.538 eV, V=-439.366 eV, K=5.828 eV, T=176.1 K\n",
      "step 23/100: E_tot=-433.540 eV, V=-439.401 eV, K=5.861 eV, T=177.1 K\n",
      "step 24/100: E_tot=-433.542 eV, V=-439.534 eV, K=5.992 eV, T=181.1 K\n",
      "step 25/100: E_tot=-433.545 eV, V=-439.753 eV, K=6.208 eV, T=187.6 K\n",
      "step 26/100: E_tot=-433.548 eV, V=-440.039 eV, K=6.492 eV, T=196.2 K\n",
      "step 27/100: E_tot=-433.551 eV, V=-440.377 eV, K=6.827 eV, T=206.3 K\n",
      "step 28/100: E_tot=-433.554 eV, V=-440.750 eV, K=7.196 eV, T=217.4 K\n",
      "step 29/100: E_tot=-433.556 eV, V=-441.141 eV, K=7.584 eV, T=229.2 K\n",
      "step 30/100: E_tot=-433.559 eV, V=-441.535 eV, K=7.976 eV, T=241.0 K\n",
      "step 31/100: E_tot=-433.561 eV, V=-441.919 eV, K=8.358 eV, T=252.6 K\n",
      "step 32/100: E_tot=-433.563 eV, V=-442.282 eV, K=8.719 eV, T=263.5 K\n",
      "step 33/100: E_tot=-433.565 eV, V=-442.615 eV, K=9.050 eV, T=273.4 K\n",
      "step 34/100: E_tot=-433.566 eV, V=-442.908 eV, K=9.342 eV, T=282.3 K\n",
      "step 35/100: E_tot=-433.567 eV, V=-443.158 eV, K=9.591 eV, T=289.8 K\n",
      "step 36/100: E_tot=-433.513 eV, V=-443.305 eV, K=9.793 eV, T=295.9 K\n",
      "step 37/100: E_tot=-433.513 eV, V=-443.458 eV, K=9.946 eV, T=300.5 K\n",
      "step 38/100: E_tot=-433.513 eV, V=-443.562 eV, K=10.049 eV, T=303.7 K\n",
      "step 39/100: E_tot=-433.512 eV, V=-443.618 eV, K=10.105 eV, T=305.3 K\n",
      "step 40/100: E_tot=-433.457 eV, V=-443.574 eV, K=10.117 eV, T=305.7 K\n",
      "step 41/100: E_tot=-433.456 eV, V=-443.543 eV, K=10.087 eV, T=304.8 K\n",
      "step 42/100: E_tot=-433.401 eV, V=-443.422 eV, K=10.021 eV, T=302.8 K\n",
      "step 43/100: E_tot=-433.399 eV, V=-443.323 eV, K=9.924 eV, T=299.9 K\n",
      "step 44/100: E_tot=-433.289 eV, V=-443.092 eV, K=9.802 eV, T=296.2 K\n",
      "step 45/100: E_tot=-433.233 eV, V=-442.896 eV, K=9.663 eV, T=292.0 K\n",
      "step 46/100: E_tot=-433.232 eV, V=-442.743 eV, K=9.511 eV, T=287.4 K\n",
      "step 47/100: E_tot=-433.230 eV, V=-442.584 eV, K=9.354 eV, T=282.6 K\n",
      "step 48/100: E_tot=-433.229 eV, V=-442.427 eV, K=9.198 eV, T=277.9 K\n",
      "step 49/100: E_tot=-433.228 eV, V=-442.277 eV, K=9.049 eV, T=273.4 K\n",
      "step 50/100: E_tot=-433.227 eV, V=-442.139 eV, K=8.912 eV, T=269.3 K\n",
      "step 51/100: E_tot=-433.226 eV, V=-442.018 eV, K=8.792 eV, T=265.7 K\n",
      "step 52/100: E_tot=-433.225 eV, V=-441.918 eV, K=8.694 eV, T=262.7 K\n",
      "step 53/100: E_tot=-433.224 eV, V=-441.843 eV, K=8.619 eV, T=260.4 K\n",
      "step 54/100: E_tot=-433.224 eV, V=-441.793 eV, K=8.570 eV, T=258.9 K\n",
      "step 55/100: E_tot=-433.223 eV, V=-441.771 eV, K=8.548 eV, T=258.3 K\n",
      "step 56/100: E_tot=-433.223 eV, V=-441.776 eV, K=8.553 eV, T=258.4 K\n",
      "step 57/100: E_tot=-433.223 eV, V=-441.808 eV, K=8.585 eV, T=259.4 K\n",
      "step 58/100: E_tot=-433.223 eV, V=-441.866 eV, K=8.642 eV, T=261.1 K\n",
      "step 59/100: E_tot=-433.224 eV, V=-441.946 eV, K=8.722 eV, T=263.6 K\n",
      "step 60/100: E_tot=-433.170 eV, V=-441.992 eV, K=8.823 eV, T=266.6 K\n",
      "step 61/100: E_tot=-433.170 eV, V=-442.110 eV, K=8.940 eV, T=270.1 K\n",
      "step 62/100: E_tot=-433.116 eV, V=-442.187 eV, K=9.071 eV, T=274.1 K\n",
      "step 63/100: E_tot=-433.117 eV, V=-442.328 eV, K=9.211 eV, T=278.3 K\n",
      "step 64/100: E_tot=-433.117 eV, V=-442.473 eV, K=9.356 eV, T=282.7 K\n",
      "step 65/100: E_tot=-433.118 eV, V=-442.621 eV, K=9.503 eV, T=287.1 K\n",
      "step 66/100: E_tot=-433.173 eV, V=-442.820 eV, K=9.647 eV, T=291.5 K\n",
      "step 67/100: E_tot=-433.174 eV, V=-442.959 eV, K=9.785 eV, T=295.7 K\n",
      "step 68/100: E_tot=-433.174 eV, V=-443.088 eV, K=9.913 eV, T=299.5 K\n",
      "step 69/100: E_tot=-433.175 eV, V=-443.203 eV, K=10.028 eV, T=303.0 K\n",
      "step 70/100: E_tot=-433.175 eV, V=-443.302 eV, K=10.127 eV, T=306.0 K\n",
      "step 71/100: E_tot=-433.176 eV, V=-443.383 eV, K=10.208 eV, T=308.4 K\n",
      "step 72/100: E_tot=-433.176 eV, V=-443.444 eV, K=10.268 eV, T=310.3 K\n",
      "step 73/100: E_tot=-433.176 eV, V=-443.484 eV, K=10.308 eV, T=311.5 K\n",
      "step 74/100: E_tot=-433.175 eV, V=-443.502 eV, K=10.327 eV, T=312.0 K\n",
      "step 75/100: E_tot=-433.175 eV, V=-443.500 eV, K=10.325 eV, T=312.0 K\n",
      "step 76/100: E_tot=-433.175 eV, V=-443.478 eV, K=10.304 eV, T=311.3 K\n",
      "step 77/100: E_tot=-433.174 eV, V=-443.438 eV, K=10.264 eV, T=310.1 K\n",
      "step 78/100: E_tot=-433.174 eV, V=-443.382 eV, K=10.208 eV, T=308.4 K\n",
      "step 79/100: E_tot=-433.173 eV, V=-443.312 eV, K=10.138 eV, T=306.3 K\n",
      "step 80/100: E_tot=-433.227 eV, V=-443.284 eV, K=10.057 eV, T=303.9 K\n",
      "step 81/100: E_tot=-433.226 eV, V=-443.194 eV, K=9.968 eV, T=301.2 K\n",
      "step 82/100: E_tot=-433.226 eV, V=-443.098 eV, K=9.872 eV, T=298.3 K\n",
      "step 83/100: E_tot=-433.170 eV, V=-442.943 eV, K=9.772 eV, T=295.3 K\n",
      "step 84/100: E_tot=-433.170 eV, V=-442.842 eV, K=9.672 eV, T=292.3 K\n",
      "step 85/100: E_tot=-433.169 eV, V=-442.742 eV, K=9.573 eV, T=289.3 K\n",
      "step 86/100: E_tot=-433.223 eV, V=-442.701 eV, K=9.478 eV, T=286.4 K\n",
      "step 87/100: E_tot=-433.223 eV, V=-442.611 eV, K=9.388 eV, T=283.7 K\n",
      "step 88/100: E_tot=-433.222 eV, V=-442.528 eV, K=9.306 eV, T=281.2 K\n",
      "step 89/100: E_tot=-433.222 eV, V=-442.454 eV, K=9.233 eV, T=279.0 K\n",
      "step 90/100: E_tot=-433.221 eV, V=-442.391 eV, K=9.170 eV, T=277.1 K\n",
      "step 91/100: E_tot=-433.221 eV, V=-442.339 eV, K=9.119 eV, T=275.5 K\n",
      "step 92/100: E_tot=-433.166 eV, V=-442.247 eV, K=9.081 eV, T=274.4 K\n",
      "step 93/100: E_tot=-433.166 eV, V=-442.222 eV, K=9.057 eV, T=273.7 K\n",
      "step 94/100: E_tot=-433.220 eV, V=-442.266 eV, K=9.047 eV, T=273.4 K\n",
      "step 95/100: E_tot=-433.220 eV, V=-442.271 eV, K=9.051 eV, T=273.5 K\n",
      "step 96/100: E_tot=-433.220 eV, V=-442.289 eV, K=9.070 eV, T=274.1 K\n",
      "step 97/100: E_tot=-433.220 eV, V=-442.322 eV, K=9.102 eV, T=275.0 K\n",
      "step 98/100: E_tot=-433.220 eV, V=-442.367 eV, K=9.147 eV, T=276.4 K\n",
      "step 99/100: E_tot=-433.220 eV, V=-442.424 eV, K=9.204 eV, T=278.1 K\n",
      "step 100/100: E_tot=-433.220 eV, V=-442.491 eV, K=9.271 eV, T=280.1 K\n"
     ]
    }
   ],
   "source": [
    "simulazione2 = Dynamics(cristallo2, atomic_mass=silver_mass, dt=dt2, temp_ini=T2)\n",
    "simulazione2.set_seed(12316543)\n",
    "meta_E_tot2, meta_E_K2, meta_T2 = simulazione2.run_dynamics(n_steps=100, debug=True)"
   ]
  },
  {
   "cell_type": "code",
   "execution_count": 13,
   "id": "3ebb4155",
   "metadata": {},
   "outputs": [
    {
     "data": {
      "image/png": "[encoded data removed]",
      "text/plain": [
       "<Figure size 1200x800 with 1 Axes>"
      ]
     },
     "metadata": {},
     "output_type": "display_data"
    }
   ],
   "source": [
    "import matplotlib.pyplot as plt\n",
    "import numpy as np\n",
    "x2 = np.arange(0, 100, 1) * dt2\n",
    "y2 = meta_E_tot2#[:100]\n",
    "\n",
    "plt.figure(figsize=(6,4), dpi=200)\n",
    "plt.plot(x2, y2)\n",
    "plt.ticklabel_format(style='sci', axis='x', scilimits=(0,0), useMathText=True)\n",
    "plt.xlabel('Time [s]')\n",
    "plt.ylabel('Total Energy (eV)')\n",
    "plt.title(f'dt = {dt2} fs')\n",
    "plt.grid()\n",
    "plt.show()"
   ]
  },
  {
   "cell_type": "code",
   "execution_count": null,
   "id": "7cce9853",
   "metadata": {},
   "outputs": [],
   "source": []
  }
 ],
 "metadata": {
  "kernelspec": {
   "display_name": "Python 3",
   "language": "python",
   "name": "python3"
  },
  "language_info": {
   "codemirror_mode": {
    "name": "ipython",
    "version": 3
   },
   "file_extension": ".py",
   "mimetype": "text/x-python",
   "name": "python",
   "nbconvert_exporter": "python",
   "pygments_lexer": "ipython3",
   "version": "3.11.11"
  }
 },
 "nbformat": 4,
 "nbformat_minor": 5
}
