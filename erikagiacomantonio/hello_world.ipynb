{
 "cells": [
  {
   "cell_type": "markdown",
   "id": "77bd22ef",
   "metadata": {},
   "source": [
    "# Hi Erika"
   ]
  },
  {
   "cell_type": "code",
   "execution_count": 3,
   "id": "b60780ca",
   "metadata": {},
   "outputs": [
    {
     "name": "stdout",
     "output_type": "stream",
     "text": [
      "Hello Erika!\n"
     ]
    }
   ],
   "source": [
    "name = 'Erika'\n",
    "print(f'Hello {name}!')"
   ]
  }
 ],
 "metadata": {
  "kernelspec": {
   "display_name": "Python 3",
   "language": "python",
   "name": "python3"
  },
  "language_info": {
   "codemirror_mode": {
    "name": "ipython",
    "version": 3
   },
   "file_extension": ".py",
   "mimetype": "text/x-python",
   "name": "python",
   "nbconvert_exporter": "python",
   "pygments_lexer": "ipython3",
   "version": "3.11.11"
  }
 },
 "nbformat": 4,
 "nbformat_minor": 5
}
